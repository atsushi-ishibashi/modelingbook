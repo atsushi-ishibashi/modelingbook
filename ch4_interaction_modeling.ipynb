{
 "cells": [
  {
   "cell_type": "code",
   "execution_count": 1,
   "metadata": {},
   "outputs": [],
   "source": [
    "%matplotlib inline\n",
    "import pandas as pd\n",
    "import numpy as np\n",
    "from sklearn.linear_model import LinearRegression\n",
    "from dataclasses import dataclass\n",
    "from typing import OrderedDict\n",
    "import matplotlib.pyplot as plt\n",
    "from mpl_toolkits.mplot3d import Axes3D"
   ]
  },
  {
   "cell_type": "code",
   "execution_count": 2,
   "metadata": {},
   "outputs": [],
   "source": [
    "dummy_data = pd.DataFrame().assign(\n",
    "    x1=np.random.uniform(0, 450, 300)\n",
    ").assign(\n",
    "    x2=lambda df: df.x1.map(\n",
    "        lambda x: 500 - x\n",
    "    ).map(\n",
    "        lambda x: x - np.random.uniform(0,200)\n",
    "    )\n",
    ").pipe(\n",
    "    lambda df: df[df.x1>0]\n",
    ").pipe(\n",
    "    lambda df: df[df.x2>0]\n",
    ").pipe(\n",
    "    lambda df: df[:100]\n",
    ").assign(\n",
    "    x1=lambda df: df.x1.map(round).map(lambda x: x*10),\n",
    "    x2=lambda df: df.x2.map(round).map(lambda x: x*10)\n",
    ").assign(\n",
    "    interaction=lambda df: df.x1*df.x2\n",
    ").assign(\n",
    "    y=lambda df: 0.2*df.x1 + 0.2*df.x2 + 0.1*df.interaction\n",
    ").assign(\n",
    "    y=lambda df: df.y.map(round),\n",
    "    y_s=lambda df: (df.y - df.y.min())\n",
    ").assign(\n",
    "    y_s=lambda df: (df.y_s/df.y_s.max())*100\n",
    ")"
   ]
  },
  {
   "cell_type": "code",
   "execution_count": 3,
   "metadata": {},
   "outputs": [
    {
     "data": {
      "text/html": [
       "<div>\n",
       "<style scoped>\n",
       "    .dataframe tbody tr th:only-of-type {\n",
       "        vertical-align: middle;\n",
       "    }\n",
       "\n",
       "    .dataframe tbody tr th {\n",
       "        vertical-align: top;\n",
       "    }\n",
       "\n",
       "    .dataframe thead th {\n",
       "        text-align: right;\n",
       "    }\n",
       "</style>\n",
       "<table border=\"1\" class=\"dataframe\">\n",
       "  <thead>\n",
       "    <tr style=\"text-align: right;\">\n",
       "      <th></th>\n",
       "      <th>x1</th>\n",
       "      <th>x2</th>\n",
       "      <th>interaction</th>\n",
       "      <th>y</th>\n",
       "      <th>y_s</th>\n",
       "    </tr>\n",
       "  </thead>\n",
       "  <tbody>\n",
       "    <tr>\n",
       "      <th>0</th>\n",
       "      <td>840</td>\n",
       "      <td>3500</td>\n",
       "      <td>2940000</td>\n",
       "      <td>294868</td>\n",
       "      <td>47.516982</td>\n",
       "    </tr>\n",
       "    <tr>\n",
       "      <th>1</th>\n",
       "      <td>1000</td>\n",
       "      <td>3190</td>\n",
       "      <td>3190000</td>\n",
       "      <td>319838</td>\n",
       "      <td>51.635826</td>\n",
       "    </tr>\n",
       "    <tr>\n",
       "      <th>3</th>\n",
       "      <td>720</td>\n",
       "      <td>2340</td>\n",
       "      <td>1684800</td>\n",
       "      <td>169092</td>\n",
       "      <td>26.770014</td>\n",
       "    </tr>\n",
       "    <tr>\n",
       "      <th>4</th>\n",
       "      <td>3740</td>\n",
       "      <td>1130</td>\n",
       "      <td>4226200</td>\n",
       "      <td>423594</td>\n",
       "      <td>68.750557</td>\n",
       "    </tr>\n",
       "    <tr>\n",
       "      <th>5</th>\n",
       "      <td>3360</td>\n",
       "      <td>1010</td>\n",
       "      <td>3393600</td>\n",
       "      <td>340234</td>\n",
       "      <td>55.000181</td>\n",
       "    </tr>\n",
       "    <tr>\n",
       "      <th>...</th>\n",
       "      <td>...</td>\n",
       "      <td>...</td>\n",
       "      <td>...</td>\n",
       "      <td>...</td>\n",
       "      <td>...</td>\n",
       "    </tr>\n",
       "    <tr>\n",
       "      <th>111</th>\n",
       "      <td>2110</td>\n",
       "      <td>2510</td>\n",
       "      <td>5296100</td>\n",
       "      <td>530534</td>\n",
       "      <td>86.390494</td>\n",
       "    </tr>\n",
       "    <tr>\n",
       "      <th>112</th>\n",
       "      <td>2800</td>\n",
       "      <td>2150</td>\n",
       "      <td>6020000</td>\n",
       "      <td>602990</td>\n",
       "      <td>98.342235</td>\n",
       "    </tr>\n",
       "    <tr>\n",
       "      <th>113</th>\n",
       "      <td>1280</td>\n",
       "      <td>3670</td>\n",
       "      <td>4697600</td>\n",
       "      <td>470750</td>\n",
       "      <td>76.529020</td>\n",
       "    </tr>\n",
       "    <tr>\n",
       "      <th>114</th>\n",
       "      <td>1000</td>\n",
       "      <td>3500</td>\n",
       "      <td>3500000</td>\n",
       "      <td>350900</td>\n",
       "      <td>56.759556</td>\n",
       "    </tr>\n",
       "    <tr>\n",
       "      <th>115</th>\n",
       "      <td>350</td>\n",
       "      <td>3010</td>\n",
       "      <td>1053500</td>\n",
       "      <td>106022</td>\n",
       "      <td>16.366510</td>\n",
       "    </tr>\n",
       "  </tbody>\n",
       "</table>\n",
       "<p>100 rows × 5 columns</p>\n",
       "</div>"
      ],
      "text/plain": [
       "       x1    x2  interaction       y        y_s\n",
       "0     840  3500      2940000  294868  47.516982\n",
       "1    1000  3190      3190000  319838  51.635826\n",
       "3     720  2340      1684800  169092  26.770014\n",
       "4    3740  1130      4226200  423594  68.750557\n",
       "5    3360  1010      3393600  340234  55.000181\n",
       "..    ...   ...          ...     ...        ...\n",
       "111  2110  2510      5296100  530534  86.390494\n",
       "112  2800  2150      6020000  602990  98.342235\n",
       "113  1280  3670      4697600  470750  76.529020\n",
       "114  1000  3500      3500000  350900  56.759556\n",
       "115   350  3010      1053500  106022  16.366510\n",
       "\n",
       "[100 rows x 5 columns]"
      ]
     },
     "execution_count": 3,
     "metadata": {},
     "output_type": "execute_result"
    }
   ],
   "source": [
    "dummy_data"
   ]
  },
  {
   "cell_type": "code",
   "execution_count": 4,
   "metadata": {},
   "outputs": [],
   "source": [
    "x = dummy_data[[\"x1\", \"x2\", \"interaction\"]]"
   ]
  },
  {
   "cell_type": "code",
   "execution_count": 5,
   "metadata": {},
   "outputs": [],
   "source": [
    "y = dummy_data.y"
   ]
  },
  {
   "cell_type": "code",
   "execution_count": 6,
   "metadata": {},
   "outputs": [],
   "source": [
    "model = LinearRegression()"
   ]
  },
  {
   "cell_type": "code",
   "execution_count": 7,
   "metadata": {},
   "outputs": [
    {
     "name": "stderr",
     "output_type": "stream",
     "text": [
      "/Users/a13771/.venv/local3.7/lib/python3.7/site-packages/sklearn/linear_model/base.py:485: RuntimeWarning: internal gelsd driver lwork query error, required iwork dimension not returned. This is likely the result of LAPACK bug 0038, fixed in LAPACK 3.2.2 (released July 21, 2010). Falling back to 'gelss' driver.\n",
      "  linalg.lstsq(X, y)\n"
     ]
    },
    {
     "data": {
      "text/plain": [
       "LinearRegression(copy_X=True, fit_intercept=True, n_jobs=None,\n",
       "         normalize=False)"
      ]
     },
     "execution_count": 7,
     "metadata": {},
     "output_type": "execute_result"
    }
   ],
   "source": [
    "model.fit(x,y)"
   ]
  },
  {
   "cell_type": "code",
   "execution_count": 8,
   "metadata": {},
   "outputs": [
    {
     "data": {
      "text/plain": [
       "array([0.2, 0.2, 0.1])"
      ]
     },
     "execution_count": 8,
     "metadata": {},
     "output_type": "execute_result"
    }
   ],
   "source": [
    "model.coef_"
   ]
  },
  {
   "cell_type": "code",
   "execution_count": 9,
   "metadata": {},
   "outputs": [],
   "source": [
    "dummy_data.to_csv('interaction_dummies.csv')"
   ]
  },
  {
   "cell_type": "code",
   "execution_count": 10,
   "metadata": {},
   "outputs": [
    {
     "data": {
      "text/plain": [
       "<matplotlib.axes._subplots.AxesSubplot at 0x1169cbe10>"
      ]
     },
     "execution_count": 10,
     "metadata": {},
     "output_type": "execute_result"
    },
    {
     "data": {
      "image/png": "[encoded data removed]",
      "text/plain": [
       "<Figure size 1152x1152 with 1 Axes>"
      ]
     },
     "metadata": {
      "needs_background": "light"
     },
     "output_type": "display_data"
    }
   ],
   "source": [
    "dummy_data.plot.scatter(x=\"x1\", y=\"x2\", s=dummy_data.y_s, figsize=(16,16), xlim=[0,5000], ylim=[0,5000])"
   ]
  },
  {
   "cell_type": "code",
   "execution_count": 11,
   "metadata": {},
   "outputs": [
    {
     "data": {
      "text/plain": [
       "<Figure size 432x288 with 0 Axes>"
      ]
     },
     "metadata": {},
     "output_type": "display_data"
    }
   ],
   "source": [
    "plt.savefig('interaction_dat.png')"
   ]
  },
  {
   "cell_type": "code",
   "execution_count": 25,
   "metadata": {},
   "outputs": [],
   "source": []
  },
  {
   "cell_type": "code",
   "execution_count": 17,
   "metadata": {},
   "outputs": [
    {
     "data": {
      "text/html": [
       "<div>\n",
       "<style scoped>\n",
       "    .dataframe tbody tr th:only-of-type {\n",
       "        vertical-align: middle;\n",
       "    }\n",
       "\n",
       "    .dataframe tbody tr th {\n",
       "        vertical-align: top;\n",
       "    }\n",
       "\n",
       "    .dataframe thead th {\n",
       "        text-align: right;\n",
       "    }\n",
       "</style>\n",
       "<table border=\"1\" class=\"dataframe\">\n",
       "  <thead>\n",
       "    <tr style=\"text-align: right;\">\n",
       "      <th></th>\n",
       "      <th>x1</th>\n",
       "      <th>x2</th>\n",
       "      <th>interaction</th>\n",
       "      <th>y</th>\n",
       "    </tr>\n",
       "  </thead>\n",
       "  <tbody>\n",
       "    <tr>\n",
       "      <th>0</th>\n",
       "      <td>840</td>\n",
       "      <td>3500</td>\n",
       "      <td>2940000</td>\n",
       "      <td>294868</td>\n",
       "    </tr>\n",
       "    <tr>\n",
       "      <th>1</th>\n",
       "      <td>1000</td>\n",
       "      <td>3190</td>\n",
       "      <td>3190000</td>\n",
       "      <td>319838</td>\n",
       "    </tr>\n",
       "    <tr>\n",
       "      <th>2</th>\n",
       "      <td>720</td>\n",
       "      <td>2340</td>\n",
       "      <td>1684800</td>\n",
       "      <td>169092</td>\n",
       "    </tr>\n",
       "    <tr>\n",
       "      <th>3</th>\n",
       "      <td>3740</td>\n",
       "      <td>1130</td>\n",
       "      <td>4226200</td>\n",
       "      <td>423594</td>\n",
       "    </tr>\n",
       "    <tr>\n",
       "      <th>4</th>\n",
       "      <td>3360</td>\n",
       "      <td>1010</td>\n",
       "      <td>3393600</td>\n",
       "      <td>340234</td>\n",
       "    </tr>\n",
       "    <tr>\n",
       "      <th>...</th>\n",
       "      <td>...</td>\n",
       "      <td>...</td>\n",
       "      <td>...</td>\n",
       "      <td>...</td>\n",
       "    </tr>\n",
       "    <tr>\n",
       "      <th>95</th>\n",
       "      <td>2110</td>\n",
       "      <td>2510</td>\n",
       "      <td>5296100</td>\n",
       "      <td>530534</td>\n",
       "    </tr>\n",
       "    <tr>\n",
       "      <th>96</th>\n",
       "      <td>2800</td>\n",
       "      <td>2150</td>\n",
       "      <td>6020000</td>\n",
       "      <td>602990</td>\n",
       "    </tr>\n",
       "    <tr>\n",
       "      <th>97</th>\n",
       "      <td>1280</td>\n",
       "      <td>3670</td>\n",
       "      <td>4697600</td>\n",
       "      <td>470750</td>\n",
       "    </tr>\n",
       "    <tr>\n",
       "      <th>98</th>\n",
       "      <td>1000</td>\n",
       "      <td>3500</td>\n",
       "      <td>3500000</td>\n",
       "      <td>350900</td>\n",
       "    </tr>\n",
       "    <tr>\n",
       "      <th>99</th>\n",
       "      <td>350</td>\n",
       "      <td>3010</td>\n",
       "      <td>1053500</td>\n",
       "      <td>106022</td>\n",
       "    </tr>\n",
       "  </tbody>\n",
       "</table>\n",
       "<p>100 rows × 4 columns</p>\n",
       "</div>"
      ],
      "text/plain": [
       "      x1    x2  interaction       y\n",
       "0    840  3500      2940000  294868\n",
       "1   1000  3190      3190000  319838\n",
       "2    720  2340      1684800  169092\n",
       "3   3740  1130      4226200  423594\n",
       "4   3360  1010      3393600  340234\n",
       "..   ...   ...          ...     ...\n",
       "95  2110  2510      5296100  530534\n",
       "96  2800  2150      6020000  602990\n",
       "97  1280  3670      4697600  470750\n",
       "98  1000  3500      3500000  350900\n",
       "99   350  3010      1053500  106022\n",
       "\n",
       "[100 rows x 4 columns]"
      ]
     },
     "execution_count": 17,
     "metadata": {},
     "output_type": "execute_result"
    }
   ],
   "source": []
  },
  {
   "cell_type": "code",
   "execution_count": 27,
   "metadata": {},
   "outputs": [
    {
     "name": "stdout",
     "output_type": "stream",
     "text": [
      "[0.2 0.2 0.1]\n"
     ]
    }
   ],
   "source": [
    "import pandas as pd\n",
    "from sklearn.linear_model import LinearRegression\n",
    "data = pd.read_csv(\"interaction_dummies.csv\")[[\"x1\", \"x2\", \"y\"]]\n",
    "x, y = data.assign(\n",
    "    # 交互作用項のカラムを作成\n",
    "    x12=lambda df: df.x1 * df.x2\n",
    ").pipe(\n",
    "    # 説明変数と目的変数を抽出\n",
    "    lambda df: (df[[\"x1\", \"x2\", \"x12\"]], df.y)\n",
    ")\n",
    "model = LinearRegression()\n",
    "model.fit(x, y)\n",
    "print(model.coef_)"
   ]
  },
  {
   "cell_type": "code",
   "execution_count": 19,
   "metadata": {},
   "outputs": [],
   "source": []
  },
  {
   "cell_type": "code",
   "execution_count": 20,
   "metadata": {},
   "outputs": [],
   "source": []
  },
  {
   "cell_type": "code",
   "execution_count": 21,
   "metadata": {},
   "outputs": [
    {
     "data": {
      "text/plain": [
       "LinearRegression(copy_X=True, fit_intercept=True, n_jobs=None,\n",
       "         normalize=False)"
      ]
     },
     "execution_count": 21,
     "metadata": {},
     "output_type": "execute_result"
    }
   ],
   "source": []
  },
  {
   "cell_type": "code",
   "execution_count": 22,
   "metadata": {},
   "outputs": [
    {
     "data": {
      "text/plain": [
       "array([0.2, 0.2, 0.1])"
      ]
     },
     "execution_count": 22,
     "metadata": {},
     "output_type": "execute_result"
    }
   ],
   "source": [
    "model.coef_"
   ]
  },
  {
   "cell_type": "code",
   "execution_count": null,
   "metadata": {},
   "outputs": [],
   "source": []
  }
 ],
 "metadata": {
  "kernelspec": {
   "display_name": "Python 3",
   "language": "python",
   "name": "python3"
  },
  "language_info": {
   "codemirror_mode": {
    "name": "ipython",
    "version": 3
   },
   "file_extension": ".py",
   "mimetype": "text/x-python",
   "name": "python",
   "nbconvert_exporter": "python",
   "pygments_lexer": "ipython3",
   "version": "3.7.4"
  }
 },
 "nbformat": 4,
 "nbformat_minor": 4
}

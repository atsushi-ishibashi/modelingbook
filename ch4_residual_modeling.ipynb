{
 "cells": [
  {
   "cell_type": "code",
   "execution_count": 17,
   "metadata": {},
   "outputs": [],
   "source": [
    "import pandas as pd\n",
    "import pystan"
   ]
  },
  {
   "cell_type": "code",
   "execution_count": 7,
   "metadata": {},
   "outputs": [],
   "source": [
    "data = pd.read_csv(\"dat_lag.csv\", index_col=0)"
   ]
  },
  {
   "cell_type": "code",
   "execution_count": 14,
   "metadata": {},
   "outputs": [],
   "source": [
    "data_stan = {\n",
    "    \"x1\": data.x1,\n",
    "    \"x2\": data.x2,\n",
    "    \"y\": data.y,\n",
    "    \"n\": data.shape[0]\n",
    "}"
   ]
  },
  {
   "cell_type": "code",
   "execution_count": 19,
   "metadata": {},
   "outputs": [],
   "source": [
    "model_code = \"\"\"\n",
    "data {\n",
    "    int n;\n",
    "    vector[n] x1;\n",
    "    vector[n] x2;\n",
    "    vector[n] y;\n",
    "}\n",
    "parameters {\n",
    "    real<lower=0> a1;\n",
    "    real<lower=0> a2;\n",
    "    real<lower=0, upper=1> lag;\n",
    "    real<lower=0> sigma;\n",
    "}\n",
    "transformed parameters {\n",
    "    vector<lower=0>[n] mu;\n",
    "    \n",
    "    mu[1] = a1*x1[1] + a2*x2[1];\n",
    "    for(i in 2:n)\n",
    "        mu[i] = a1*x1[i] + a2*x2[i] + a2*lag*x2[i-1];\n",
    "}\n",
    "model {\n",
    "    y ~ normal(mu, sigma);\n",
    "}\n",
    "\"\"\""
   ]
  },
  {
   "cell_type": "code",
   "execution_count": 20,
   "metadata": {},
   "outputs": [
    {
     "name": "stderr",
     "output_type": "stream",
     "text": [
      "INFO:pystan:COMPILING THE C++ CODE FOR MODEL anon_model_17592478f68fe51847b299a4f34b0bd4 NOW.\n"
     ]
    }
   ],
   "source": [
    "model = pystan.StanModel(model_code=model_code)"
   ]
  },
  {
   "cell_type": "code",
   "execution_count": 24,
   "metadata": {},
   "outputs": [
    {
     "name": "stderr",
     "output_type": "stream",
     "text": [
      "WARNING:pystan:n_eff / iter below 0.001 indicates that the effective sample size has likely been overestimated\n",
      "WARNING:pystan:Rhat above 1.1 or below 0.9 indicates that the chains very likely have not mixed\n",
      "WARNING:pystan:2 of 4000 iterations ended with a divergence (0.05 %).\n",
      "WARNING:pystan:Try running with adapt_delta larger than 0.8 to remove the divergences.\n",
      "WARNING:pystan:1566 of 4000 iterations saturated the maximum tree depth of 10 (39.1 %)\n",
      "WARNING:pystan:Run again with max_treedepth larger than 10 to avoid saturation\n"
     ]
    }
   ],
   "source": [
    "stanfit = model.sampling(data=data_stan)"
   ]
  },
  {
   "cell_type": "code",
   "execution_count": 25,
   "metadata": {},
   "outputs": [
    {
     "data": {
      "text/plain": [
       "Inference for Stan model: anon_model_17592478f68fe51847b299a4f34b0bd4.\n",
       "4 chains, each with iter=2000; warmup=1000; thin=1; \n",
       "post-warmup draws per chain=1000, total post-warmup draws=4000.\n",
       "\n",
       "         mean se_mean     sd   2.5%    25%    50%    75%  97.5%  n_eff   Rhat\n",
       "a1        0.5  4.6e-9 2.6e-7    0.5    0.5    0.5    0.5    0.5   3276    1.0\n",
       "a2        0.4  5.6e-9 2.8e-7    0.4    0.4    0.4    0.4    0.4   2505    1.0\n",
       "lag       0.5  2.1e-8 1.0e-6    0.5    0.5    0.5    0.5    0.5   2345    1.0\n",
       "sigma  5.8e-4  1.6e-4 2.5e-4 2.6e-4 3.6e-4 5.6e-4 7.4e-4 1.1e-3      2   3.43\n",
       "mu[1]   700.0  5.3e-6 2.8e-4  700.0  700.0  700.0  700.0  700.0   2697    1.0\n",
       "mu[2]   100.0  3.4e-6 1.7e-4  100.0  100.0  100.0  100.0  100.0   2460    1.0\n",
       "mu[3]   400.0  5.6e-6 2.8e-4  400.0  400.0  400.0  400.0  400.0   2505    1.0\n",
       "mu[4]  1600.0  7.5e-6 4.3e-4 1600.0 1600.0 1600.0 1600.0 1600.0   3210    1.0\n",
       "mu[5]  1200.0  8.0e-6 4.5e-4 1200.0 1200.0 1200.0 1200.0 1200.0   3216    1.0\n",
       "mu[6]   400.0  5.6e-6 2.8e-4  400.0  400.0  400.0  400.0  400.0   2505    1.0\n",
       "mu[7]   600.0  6.0e-6 3.6e-4  600.0  600.0  600.0  600.0  600.0   3533    1.0\n",
       "mu[8]   200.0  6.8e-6 3.4e-4  200.0  200.0  200.0  200.0  200.0   2460    1.0\n",
       "mu[9]   400.0  5.6e-6 2.8e-4  400.0  400.0  400.0  400.0  400.0   2505    1.0\n",
       "mu[10]  850.0  5.0e-6 3.0e-4  850.0  850.0  850.0  850.0  850.0   3605    1.0\n",
       "mu[11]  200.0  6.8e-6 3.4e-4  200.0  200.0  200.0  200.0  200.0   2460    1.0\n",
       "lp__    71.02    3.05   4.58  62.96  67.67  69.97  74.18  78.63      2   3.37\n",
       "\n",
       "Samples were drawn using NUTS at Sun Dec  8 23:53:09 2019.\n",
       "For each parameter, n_eff is a crude measure of effective sample size,\n",
       "and Rhat is the potential scale reduction factor on split chains (at \n",
       "convergence, Rhat=1)."
      ]
     },
     "execution_count": 25,
     "metadata": {},
     "output_type": "execute_result"
    }
   ],
   "source": [
    "stanfit"
   ]
  },
  {
   "cell_type": "code",
   "execution_count": null,
   "metadata": {},
   "outputs": [],
   "source": []
  }
 ],
 "metadata": {
  "kernelspec": {
   "display_name": "Python 3",
   "language": "python",
   "name": "python3"
  },
  "language_info": {
   "codemirror_mode": {
    "name": "ipython",
    "version": 3
   },
   "file_extension": ".py",
   "mimetype": "text/x-python",
   "name": "python",
   "nbconvert_exporter": "python",
   "pygments_lexer": "ipython3",
   "version": "3.7.4"
  }
 },
 "nbformat": 4,
 "nbformat_minor": 4
}
